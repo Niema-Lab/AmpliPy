{
 "cells": [
  {
   "cell_type": "code",
   "execution_count": null,
   "metadata": {},
   "outputs": [],
   "source": [
    "# imports\n",
    "import AmpliPy\n",
    "import pysam\n",
    "import multiprocessing\n",
    "\n",
    "MAIN_EXAMPLE_INPUT_FILE = \"./example/example_untrimmed_sorted.bam\""
   ]
  },
  {
   "cell_type": "code",
   "execution_count": null,
   "metadata": {},
   "outputs": [],
   "source": [
    "# counts total reads we have\n",
    "import AmpliPy\n",
    "in_align,_ = AmpliPy.create_AlignmentFile_objects(MAIN_EXAMPLE_INPUT_FILE)\n",
    "count = 0\n",
    "for read in in_align:\n",
    "\tcount += 1\n",
    "\n",
    "print(\"total reads\", str(count)) # last count was 201600"
   ]
  },
  {
   "cell_type": "code",
   "execution_count": null,
   "metadata": {},
   "outputs": [],
   "source": [
    "# counts total reads we have\n",
    "import AmpliPy\n",
    "in_align,_ = AmpliPy.create_AlignmentFile_objects(MAIN_EXAMPLE_INPUT_FILE)\n",
    "count = 0\n",
    "for read in in_align:\n",
    "\tcount += 1\n",
    "\n",
    "print(\"total reads\", str(count)) # last count was 201600"
   ]
  },
  {
   "cell_type": "code",
   "execution_count": null,
   "metadata": {},
   "outputs": [],
   "source": [
    "# simple function to take time\n",
    "import time\n",
    "def func_to_run(read):\n",
    "\ttime.sleep(.5))read)time_before = time.time()tort os\n",
    "new_input_file = \"intermediary.bam\"\n",
    "os.remove(new_input_file) # you need a new file each time\n",
    "\n",
    "in_align,out_align = AmpliPy.create_AlignmentFile_objects(MAIN_EXAMPLE_INPUT_FILE, new_input_file)\n",
    "\n",
    "i = 0\n",
    "for read in in_align:\n",
    "\tif (i >= 100):\n",
    "\t\tbreak\n",
    "\tout_align.write(read)\n",
    "\ti += 1\n",
    "out_align.close()"
   ]
  },
  {
   "cell_type": "code",
   "execution_count": null,
   "metadata": {},
   "outputs": [],
   "source": [
    "# read in the newly created file, ensuring we created the right file size\n",
    "inter_align,_ = AmpliPy.create_AlignmentFile_objects(new_input_file)\n",
    "\n",
    "count = 0\n",
    "for read in inter_align:\n",
    "\tcount += 1\n",
    "\n",
    "print(\"count: \", str(count)) # count was 100 on last run\n"
   ]
  },
  {
   "cell_type": "code",
   "execution_count": null,
   "metadata": {},
   "outputs": [],
   "source": [
    "# simple test to check time for a linear approach\n",
    "inter_align,_ = AmpliPy.create_AlignmentFile_objects(new_input_file)\n",
    "\n",
    "linear_start = time.time()\n",
    "for read in inter_align:\n",
    "\tfunc_to_run(read)\n",
    "linear_end = time.time()\n",
    "\n",
    "linear_time = linear_end - linear_start\n",
    "print(\"total time for linear approach: \", str(linear_time)) # took 50.36s on last run"
   ]
  },
  {
   "cell_type": "code",
   "execution_count": 58,
   "metadata": {},
   "outputs": [
    {
     "name": "stdout",
     "output_type": "stream",
     "text": [
      "donedonedone\n",
      "\n",
      "\n"
     ]
    }
   ],
   "source": [
    "# simple multiprocessing test\n",
    "import multiprocess as mp\n",
    "inter_align,_ = AmpliPy.create_AlignmentFile_objects(new_input_file)\n",
    "\n",
    "def worker():\n",
    "\twhile True:\n",
    "\t\tread = ld.get()\n",
    "\t\tfunc_to_run(read)\n",
    "\t\tprint(\"done\")\n",
    "\t\tld.task_done()\n",
    "\n",
    "if __name__ == '__main__':\n",
    "\tld = mp.Queue()\n",
    "\tpool = mp.Pool(3)\n",
    "\tfor i in range(3):\n",
    "\t\tpool.apply_async(worker)\n",
    "\n",
    "\tfor read in inter_align:\n",
    "\t\tfake_read = {\n",
    "\t\t\t'cigartuples': read.cigartuples,\n",
    "\t\t\t'is_paired': read.is_paired,\n",
    "\t\t\t'is_reverse': read.is_reverse,\n",
    "\t\t\t'query_alignment_qualities': read.query_alignment_qualities,\n",
    "\t\t\t'query_alignment_start': read.query_alignment_start,\n",
    "\t\t\t'query_length': read.query_length,\n",
    "\t\t\t'reference_end': read.reference_end,\n",
    "\t\t\t'reference_start': read.reference_start,\n",
    "\t\t\t'template_length': read.template_length\n",
    "\t\t}\n",
    "\t\tld.put(fake_read)\n",
    "\t\n",
    "\tpool.close()\n",
    "\tpool.join()"
   ]
  },
  {
   "cell_type": "code",
   "execution_count": null,
   "metadata": {},
   "outputs": [],
   "source": []
  }
 ],
 "metadata": {
  "interpreter": {
   "hash": "6050fecc2b647adcca5d7cc85ea90481306bcfee87ca78187d29fb6622b8d2a0"
  },
  "kernelspec": {
   "display_name": "Python 3.8.0 ('AmpliPy': venv)",
   "language": "python",
   "name": "python3"
  },
  "language_info": {
   "codemirror_mode": {
    "name": "ipython",
    "version": 3
   },
   "file_extension": ".py",
   "mimetype": "text/x-python",
   "name": "python",
   "nbconvert_exporter": "python",
   "pygments_lexer": "ipython3",
   "version": "3.8.0"
  },
  "orig_nbformat": 4
 },
 "nbformat": 4,
 "nbformat_minor": 2
}
