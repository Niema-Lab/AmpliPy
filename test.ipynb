{
 "cells": [
  {
   "cell_type": "code",
   "execution_count": 9,
   "metadata": {},
   "outputs": [],
   "source": [
    "# imports\n",
    "import AmpliPy\n",
    "import pysam\n",
    "import multiprocessing\n",
    "\n",
    "MAIN_EXAMPLE_INPUT_FILE = \"./example/example_untrimmed_sorted.bam\"\n",
    "data = []"
   ]
  },
  {
   "cell_type": "code",
   "execution_count": 10,
   "metadata": {},
   "outputs": [
    {
     "name": "stdout",
     "output_type": "stream",
     "text": [
      "total reads 201600\n"
     ]
    }
   ],
   "source": [
    "# counts total reads we have\n",
    "import AmpliPy\n",
    "in_align,_ = AmpliPy.create_AlignmentFile_objects(MAIN_EXAMPLE_INPUT_FILE)\n",
    "count = 0\n",
    "for read in in_align:\n",
    "\tcount += 1\n",
    "\n",
    "print(\"total reads\", str(count)) # last count was 201600"
   ]
  },
  {
   "cell_type": "code",
   "execution_count": 11,
   "metadata": {},
   "outputs": [],
   "source": [
    "# simple function to take time\n",
    "import time\n",
    "def func_to_run(read):\n",
    "\ttime.sleep(1)"
   ]
  },
  {
   "cell_type": "code",
   "execution_count": 12,
   "metadata": {},
   "outputs": [],
   "source": [
    "\n",
    "new_input_file = \"intermediary.bam\"\n",
    "os.remove(new_input_file) # you need a new file each time\n",
    "\n",
    "in_align,out_align = AmpliPy.create_AlignmentFile_objects(MAIN_EXAMPLE_INPUT_FILE, new_input_file)\n",
    "\n",
    "i = 0\n",
    "for read in in_align:\n",
    "\tif (i >= 100):\n",
    "\t\tbreak\n",
    "\tout_align.write(read)\n",
    "\ti += 1\n",
    "out_align.close()"
   ]
  },
  {
   "cell_type": "code",
   "execution_count": 13,
   "metadata": {},
   "outputs": [
    {
     "name": "stdout",
     "output_type": "stream",
     "text": [
      "count:  100\n"
     ]
    }
   ],
   "source": [
    "# read in the newly created file, ensuring we created the right file size\n",
    "inter_align,_ = AmpliPy.create_AlignmentFile_objects(new_input_file)\n",
    "\n",
    "count = 0\n",
    "for read in inter_align:\n",
    "\tcount += 1\n",
    "\n",
    "print(\"count: \", str(count)) # count was 100 on last run\n"
   ]
  },
  {
   "cell_type": "code",
   "execution_count": 14,
   "metadata": {},
   "outputs": [
    {
     "name": "stdout",
     "output_type": "stream",
     "text": [
      "total time for linear approach:  100.10854363441467\n"
     ]
    }
   ],
   "source": [
    "# simple test to check time for a linear approach\n",
    "inter_align,_ = AmpliPy.create_AlignmentFile_objects(new_input_file)\n",
    "\n",
    "linear_start = time.time()\n",
    "for read in inter_align:\n",
    "\tfunc_to_run(read)\n",
    "linear_end = time.time()\n",
    "\n",
    "linear_time = linear_end - linear_start\n",
    "\n",
    "print(\"total time for linear approach: \", str(linear_time)) # took 50.36s on last run\n",
    "data.append([\"linear\", 1, linear_time])"
   ]
  },
  {
   "cell_type": "code",
   "execution_count": 23,
   "metadata": {},
   "outputs": [],
   "source": [
    "# simple multiprocessing test\n",
    "import multiprocessing as mp\n",
    "inter_align,_ = AmpliPy.create_AlignmentFile_objects(new_input_file)\n",
    "ld = mp.JoinableQueue()\n",
    "\n",
    "def worker():\n",
    "\t#print(\"spawned!\")\n",
    "\twhile True:\n",
    "\t\tread = ld.get()\n",
    "\t\tfunc_to_run(read)\n",
    "\t\t#print(\"done\")\n",
    "\t\tld.task_done()\n",
    "\n",
    "if __name__ == '__main__':\n",
    "\tmulti_start = time.time()\n",
    "\t\n",
    "\tnum_processes = 15\n",
    "\tprocesses = []\n",
    "\tfor _ in range(num_processes):\n",
    "\t\tp = mp.Process(target=worker)\n",
    "\t\tp.start()\n",
    "\t\tprocesses.append(p)\n",
    "\n",
    "\tfor read in inter_align:\n",
    "\t\tfake_read = {\n",
    "\t\t\t'cigartuples': read.cigartuples,\n",
    "\t\t\t'is_paired': read.is_paired,\n",
    "\t\t\t'is_reverse': read.is_reverse,\n",
    "\t\t\t'query_alignment_qualities': read.query_alignment_qualities,\n",
    "\t\t\t'query_alignment_start': read.query_alignment_start,\n",
    "\t\t\t'query_length': read.query_length,\n",
    "\t\t\t'reference_end': read.reference_end,\n",
    "\t\t\t'reference_start': read.reference_start,\n",
    "\t\t\t'template_length': read.template_length\n",
    "\t\t}\n",
    "\t\tld.put(fake_read)\n",
    "\t\n",
    "\t#print(ld.qsize())\n",
    "\tld.close()\n",
    "\tld.join()\n",
    "\t#print(ld.qsize())\n",
    "\tmulti_end = time.time()\n",
    "\tmulti_time = multi_end - multi_start\n",
    "\tdata.append([\"multi\", num_processes, multi_time])"
   ]
  },
  {
   "cell_type": "code",
   "execution_count": 24,
   "metadata": {},
   "outputs": [
    {
     "data": {
      "text/html": [
       "<div>\n",
       "<style scoped>\n",
       "    .dataframe tbody tr th:only-of-type {\n",
       "        vertical-align: middle;\n",
       "    }\n",
       "\n",
       "    .dataframe tbody tr th {\n",
       "        vertical-align: top;\n",
       "    }\n",
       "\n",
       "    .dataframe thead th {\n",
       "        text-align: right;\n",
       "    }\n",
       "</style>\n",
       "<table border=\"1\" class=\"dataframe\">\n",
       "  <thead>\n",
       "    <tr style=\"text-align: right;\">\n",
       "      <th></th>\n",
       "      <th>Impl</th>\n",
       "      <th>Processes</th>\n",
       "      <th>Runtime</th>\n",
       "    </tr>\n",
       "  </thead>\n",
       "  <tbody>\n",
       "    <tr>\n",
       "      <th>0</th>\n",
       "      <td>linear</td>\n",
       "      <td>1</td>\n",
       "      <td>100.108544</td>\n",
       "    </tr>\n",
       "    <tr>\n",
       "      <th>1</th>\n",
       "      <td>multi</td>\n",
       "      <td>1</td>\n",
       "      <td>100.119531</td>\n",
       "    </tr>\n",
       "    <tr>\n",
       "      <th>2</th>\n",
       "      <td>multi</td>\n",
       "      <td>2</td>\n",
       "      <td>50.069536</td>\n",
       "    </tr>\n",
       "    <tr>\n",
       "      <th>3</th>\n",
       "      <td>multi</td>\n",
       "      <td>4</td>\n",
       "      <td>25.045139</td>\n",
       "    </tr>\n",
       "    <tr>\n",
       "      <th>4</th>\n",
       "      <td>multi</td>\n",
       "      <td>8</td>\n",
       "      <td>13.136370</td>\n",
       "    </tr>\n",
       "    <tr>\n",
       "      <th>5</th>\n",
       "      <td>multi</td>\n",
       "      <td>12</td>\n",
       "      <td>9.064442</td>\n",
       "    </tr>\n",
       "    <tr>\n",
       "      <th>6</th>\n",
       "      <td>multi</td>\n",
       "      <td>15</td>\n",
       "      <td>7.060680</td>\n",
       "    </tr>\n",
       "  </tbody>\n",
       "</table>\n",
       "</div>"
      ],
      "text/plain": [
       "     Impl  Processes     Runtime\n",
       "0  linear          1  100.108544\n",
       "1   multi          1  100.119531\n",
       "2   multi          2   50.069536\n",
       "3   multi          4   25.045139\n",
       "4   multi          8   13.136370\n",
       "5   multi         12    9.064442\n",
       "6   multi         15    7.060680"
      ]
     },
     "execution_count": 24,
     "metadata": {},
     "output_type": "execute_result"
    }
   ],
   "source": [
    "import pandas as pd\n",
    "pd.DataFrame(data, columns=[\"Impl\", \"Processes\", \"Runtime\"])"
   ]
  }
 ],
 "metadata": {
  "interpreter": {
   "hash": "6050fecc2b647adcca5d7cc85ea90481306bcfee87ca78187d29fb6622b8d2a0"
  },
  "kernelspec": {
   "display_name": "Python 3.8.0 ('AmpliPy': venv)",
   "language": "python",
   "name": "python3"
  },
  "language_info": {
   "codemirror_mode": {
    "name": "ipython",
    "version": 3
   },
   "file_extension": ".py",
   "mimetype": "text/x-python",
   "name": "python",
   "nbconvert_exporter": "python",
   "pygments_lexer": "ipython3",
   "version": "3.9.1"
  },
  "orig_nbformat": 4
 },
 "nbformat": 4,
 "nbformat_minor": 2
}
